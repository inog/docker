{
 "cells": [
  {
   "cell_type": "markdown",
   "metadata": {},
   "source": [
    "# Überprüfe ob PySark richtig installiert ist"
   ]
  },
  {
   "cell_type": "markdown",
   "metadata": {},
   "source": [
    "Dazu musst du zunächst Docker installieren. Schaue dir Dazu am besten die Kursvideos an.\n",
    "\n",
    "#### Wenn docker installiert ist kannst du die folgenden Befehle ausführen um ein Docker Container lokal zu erstellen:\n",
    "docker create --name pyspark -p 8888:8888 jupyter/pyspark-notebook\n",
    "\n",
    "#### Danach kannst du die Übungshefte des Kurses in den Docker Container kopieren:\n",
    "cd \n",
    "docker cp Downloads pyspark:/home/jovyan/work\n",
    "\n",
    "#### Jetzt kannst du den Contaner starten:\n",
    "docker start -a pyspark\n",
    "\n",
    "#### Kopiere den localhost Pfad in deinen Browser um Jyputer zu öffnen:\n",
    "http://127.0.0.1:8888/?token=Passwort_des_tokens\n",
    " \n",
    "#### Falls du den Container soppen möchstest und zu einem säteren Zeitpunkt fortsetzten dann kannst du diesen einfach beenden:\n",
    "docker stop pyspark\n"
   ]
  },
  {
   "cell_type": "markdown",
   "metadata": {},
   "source": [
    "## Teste jetzt ob PySpark richtig installiert ist. Dazu führen wir einfach eine Berechnung aus"
   ]
  },
  {
   "cell_type": "code",
   "execution_count": 1,
   "metadata": {},
   "outputs": [
    {
     "data": {
      "text/plain": [
       "[49, 231, 199]"
      ]
     },
     "execution_count": 1,
     "metadata": {},
     "output_type": "execute_result"
    }
   ],
   "source": [
    "import pyspark \n",
    "sc = pyspark.SparkContext('local[*]')\n",
    "# Etwas berechnen um zu überprüfen ob Spark funktioniert:\n",
    "rdd = sc.parallelize(range(300))\n",
    "rdd.takeSample(False, 3)\n"
   ]
  },
  {
   "cell_type": "markdown",
   "metadata": {},
   "source": [
    "# Viel Spass mit PySpark! :-)"
   ]
  },
  {
   "cell_type": "code",
   "execution_count": null,
   "metadata": {},
   "outputs": [],
   "source": []
  }
 ],
 "metadata": {
  "kernelspec": {
   "display_name": "Python 3",
   "language": "python",
   "name": "python3"
  },
  "language_info": {
   "codemirror_mode": {
    "name": "ipython",
    "version": 3
   },
   "file_extension": ".py",
   "mimetype": "text/x-python",
   "name": "python",
   "nbconvert_exporter": "python",
   "pygments_lexer": "ipython3",
   "version": "3.7.3"
  }
 },
 "nbformat": 4,
 "nbformat_minor": 2
}
